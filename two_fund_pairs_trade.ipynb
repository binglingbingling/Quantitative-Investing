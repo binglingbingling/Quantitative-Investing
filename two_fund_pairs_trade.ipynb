{
 "cells": [
  {
   "cell_type": "markdown",
   "metadata": {},
   "source": [
    "In this notebook I am illustrating a returns-based pairs trade between two ETFs, chosen more or less arbitrarily."
   ]
  },
  {
   "cell_type": "code",
   "execution_count": 1,
   "metadata": {
    "collapsed": true
   },
   "outputs": [],
   "source": [
    "import pandas as pd\n",
    "import numpy as np\n",
    "import matplotlib.pyplot as plt"
   ]
  },
  {
   "cell_type": "markdown",
   "metadata": {},
   "source": [
    "I'll define the parameter _sdcut_ here.  As we will see below, this will determine the decision about when to enter the pairs trade."
   ]
  },
  {
   "cell_type": "code",
   "execution_count": 2,
   "metadata": {
    "collapsed": true
   },
   "outputs": [],
   "source": [
    "sdcut = 1"
   ]
  },
  {
   "cell_type": "markdown",
   "metadata": {},
   "source": [
    "We're going to look at trading the following pair:\n",
    "- IGF - iShares Global Infrastructure ETF\n",
    "- UGF - The Cohen & Steers Infrastructure closed end fund\n",
    "\n",
    "(Not perfect, as UGF is a big more US-focused.)\n",
    "\n",
    "We'll start by examining daily data from Yahoo."
   ]
  },
  {
   "cell_type": "code",
   "execution_count": 3,
   "metadata": {
    "collapsed": true
   },
   "outputs": [],
   "source": [
    "IGF = pd.read_csv('IGF.csv', parse_dates=[0], index_col=[0])\n",
    "UTF = pd.read_csv('UTF.csv', parse_dates=[0], index_col=[0])"
   ]
  },
  {
   "cell_type": "markdown",
   "metadata": {},
   "source": [
    "Merging and keeping the intersection of adjusted closing prices:"
   ]
  },
  {
   "cell_type": "code",
   "execution_count": 4,
   "metadata": {
    "scrolled": true
   },
   "outputs": [
    {
     "data": {
      "text/html": [
       "<div>\n",
       "<style scoped>\n",
       "    .dataframe tbody tr th:only-of-type {\n",
       "        vertical-align: middle;\n",
       "    }\n",
       "\n",
       "    .dataframe tbody tr th {\n",
       "        vertical-align: top;\n",
       "    }\n",
       "\n",
       "    .dataframe thead th {\n",
       "        text-align: right;\n",
       "    }\n",
       "</style>\n",
       "<table border=\"1\" class=\"dataframe\">\n",
       "  <thead>\n",
       "    <tr style=\"text-align: right;\">\n",
       "      <th></th>\n",
       "      <th>IGF</th>\n",
       "      <th>UTF</th>\n",
       "    </tr>\n",
       "    <tr>\n",
       "      <th>Date</th>\n",
       "      <th></th>\n",
       "      <th></th>\n",
       "    </tr>\n",
       "  </thead>\n",
       "  <tbody>\n",
       "    <tr>\n",
       "      <th>2014-01-02</th>\n",
       "      <td>33.562935</td>\n",
       "      <td>14.065733</td>\n",
       "    </tr>\n",
       "    <tr>\n",
       "      <th>2014-01-03</th>\n",
       "      <td>33.580406</td>\n",
       "      <td>14.051935</td>\n",
       "    </tr>\n",
       "    <tr>\n",
       "      <th>2014-01-06</th>\n",
       "      <td>33.475559</td>\n",
       "      <td>14.141651</td>\n",
       "    </tr>\n",
       "    <tr>\n",
       "      <th>2014-01-07</th>\n",
       "      <td>33.667793</td>\n",
       "      <td>14.148554</td>\n",
       "    </tr>\n",
       "    <tr>\n",
       "      <th>2014-01-08</th>\n",
       "      <td>33.519245</td>\n",
       "      <td>14.120949</td>\n",
       "    </tr>\n",
       "  </tbody>\n",
       "</table>\n",
       "</div>"
      ],
      "text/plain": [
       "                  IGF        UTF\n",
       "Date                            \n",
       "2014-01-02  33.562935  14.065733\n",
       "2014-01-03  33.580406  14.051935\n",
       "2014-01-06  33.475559  14.141651\n",
       "2014-01-07  33.667793  14.148554\n",
       "2014-01-08  33.519245  14.120949"
      ]
     },
     "execution_count": 4,
     "metadata": {},
     "output_type": "execute_result"
    }
   ],
   "source": [
    "prices = pd.DataFrame(index=IGF.index)\n",
    "prices['IGF'] = IGF['Adj Close']\n",
    "prices['UTF'] = UTF['Adj Close']\n",
    "prices.dropna(inplace=True)\n",
    "prices.head()"
   ]
  },
  {
   "cell_type": "markdown",
   "metadata": {},
   "source": [
    "Computing returns and dropping the first row, which will be missing:"
   ]
  },
  {
   "cell_type": "code",
   "execution_count": 5,
   "metadata": {},
   "outputs": [
    {
     "data": {
      "text/html": [
       "<div>\n",
       "<style scoped>\n",
       "    .dataframe tbody tr th:only-of-type {\n",
       "        vertical-align: middle;\n",
       "    }\n",
       "\n",
       "    .dataframe tbody tr th {\n",
       "        vertical-align: top;\n",
       "    }\n",
       "\n",
       "    .dataframe thead th {\n",
       "        text-align: right;\n",
       "    }\n",
       "</style>\n",
       "<table border=\"1\" class=\"dataframe\">\n",
       "  <thead>\n",
       "    <tr style=\"text-align: right;\">\n",
       "      <th></th>\n",
       "      <th>IGF</th>\n",
       "      <th>UTF</th>\n",
       "    </tr>\n",
       "    <tr>\n",
       "      <th>Date</th>\n",
       "      <th></th>\n",
       "      <th></th>\n",
       "    </tr>\n",
       "  </thead>\n",
       "  <tbody>\n",
       "    <tr>\n",
       "      <th>2014-01-03</th>\n",
       "      <td>0.000521</td>\n",
       "      <td>-0.000981</td>\n",
       "    </tr>\n",
       "    <tr>\n",
       "      <th>2014-01-06</th>\n",
       "      <td>-0.003122</td>\n",
       "      <td>0.006385</td>\n",
       "    </tr>\n",
       "    <tr>\n",
       "      <th>2014-01-07</th>\n",
       "      <td>0.005743</td>\n",
       "      <td>0.000488</td>\n",
       "    </tr>\n",
       "    <tr>\n",
       "      <th>2014-01-08</th>\n",
       "      <td>-0.004412</td>\n",
       "      <td>-0.001951</td>\n",
       "    </tr>\n",
       "    <tr>\n",
       "      <th>2014-01-09</th>\n",
       "      <td>-0.002607</td>\n",
       "      <td>-0.003422</td>\n",
       "    </tr>\n",
       "  </tbody>\n",
       "</table>\n",
       "</div>"
      ],
      "text/plain": [
       "                 IGF       UTF\n",
       "Date                          \n",
       "2014-01-03  0.000521 -0.000981\n",
       "2014-01-06 -0.003122  0.006385\n",
       "2014-01-07  0.005743  0.000488\n",
       "2014-01-08 -0.004412 -0.001951\n",
       "2014-01-09 -0.002607 -0.003422"
      ]
     },
     "execution_count": 5,
     "metadata": {},
     "output_type": "execute_result"
    }
   ],
   "source": [
    "returns = prices.pct_change()\n",
    "returns.dropna(inplace=True)\n",
    "returns.head()"
   ]
  },
  {
   "cell_type": "markdown",
   "metadata": {},
   "source": [
    "The idea of a pair trade is to buy security A and short sell security B when A has performed poorly relative to B.  If the two securities were similar, the poor relative performance of A should be reversed in the future, which happens either by A performing well or by B performing poorly.  Either way, a long-A/short-B portfolio will make money.\n",
    "\n",
    "The return differential is what we are interested in.  We will use it as our trading signal.  It is also the rate of return on a long-UTF/short-IGF portfolio."
   ]
  },
  {
   "cell_type": "code",
   "execution_count": 6,
   "metadata": {
    "collapsed": true
   },
   "outputs": [],
   "source": [
    "returns['diff'] = returns['UTF'] - returns['IGF']"
   ]
  },
  {
   "cell_type": "markdown",
   "metadata": {},
   "source": [
    "We want to know if the differential is \"large.\"  One way to do this is to compare it within the distribution of past values, for example by measuring it relative to a 250-day moving SD.\n",
    "\n",
    "We'll have to drop the first 250 days of the sample since we won't have a rolling SD for them:"
   ]
  },
  {
   "cell_type": "code",
   "execution_count": 7,
   "metadata": {
    "collapsed": true
   },
   "outputs": [],
   "source": [
    "returns['rollSD'] = returns['diff'].rolling(250).std()\n",
    "returns.dropna(inplace=True)"
   ]
  },
  {
   "cell_type": "code",
   "execution_count": 8,
   "metadata": {},
   "outputs": [
    {
     "data": {
      "text/html": [
       "<div>\n",
       "<style scoped>\n",
       "    .dataframe tbody tr th:only-of-type {\n",
       "        vertical-align: middle;\n",
       "    }\n",
       "\n",
       "    .dataframe tbody tr th {\n",
       "        vertical-align: top;\n",
       "    }\n",
       "\n",
       "    .dataframe thead th {\n",
       "        text-align: right;\n",
       "    }\n",
       "</style>\n",
       "<table border=\"1\" class=\"dataframe\">\n",
       "  <thead>\n",
       "    <tr style=\"text-align: right;\">\n",
       "      <th></th>\n",
       "      <th>IGF</th>\n",
       "      <th>UTF</th>\n",
       "      <th>diff</th>\n",
       "      <th>rollSD</th>\n",
       "    </tr>\n",
       "  </thead>\n",
       "  <tbody>\n",
       "    <tr>\n",
       "      <th>count</th>\n",
       "      <td>913.000000</td>\n",
       "      <td>913.000000</td>\n",
       "      <td>913.000000</td>\n",
       "      <td>913.000000</td>\n",
       "    </tr>\n",
       "    <tr>\n",
       "      <th>mean</th>\n",
       "      <td>0.000150</td>\n",
       "      <td>0.000394</td>\n",
       "      <td>0.000245</td>\n",
       "      <td>0.007224</td>\n",
       "    </tr>\n",
       "    <tr>\n",
       "      <th>std</th>\n",
       "      <td>0.008263</td>\n",
       "      <td>0.009140</td>\n",
       "      <td>0.007187</td>\n",
       "      <td>0.000889</td>\n",
       "    </tr>\n",
       "    <tr>\n",
       "      <th>min</th>\n",
       "      <td>-0.055269</td>\n",
       "      <td>-0.048320</td>\n",
       "      <td>-0.034636</td>\n",
       "      <td>0.004987</td>\n",
       "    </tr>\n",
       "    <tr>\n",
       "      <th>25%</th>\n",
       "      <td>-0.004389</td>\n",
       "      <td>-0.004012</td>\n",
       "      <td>-0.003855</td>\n",
       "      <td>0.006660</td>\n",
       "    </tr>\n",
       "    <tr>\n",
       "      <th>50%</th>\n",
       "      <td>0.000459</td>\n",
       "      <td>0.001052</td>\n",
       "      <td>0.000312</td>\n",
       "      <td>0.007213</td>\n",
       "    </tr>\n",
       "    <tr>\n",
       "      <th>75%</th>\n",
       "      <td>0.004979</td>\n",
       "      <td>0.005253</td>\n",
       "      <td>0.004595</td>\n",
       "      <td>0.007914</td>\n",
       "    </tr>\n",
       "    <tr>\n",
       "      <th>max</th>\n",
       "      <td>0.031722</td>\n",
       "      <td>0.038187</td>\n",
       "      <td>0.053882</td>\n",
       "      <td>0.009352</td>\n",
       "    </tr>\n",
       "  </tbody>\n",
       "</table>\n",
       "</div>"
      ],
      "text/plain": [
       "              IGF         UTF        diff      rollSD\n",
       "count  913.000000  913.000000  913.000000  913.000000\n",
       "mean     0.000150    0.000394    0.000245    0.007224\n",
       "std      0.008263    0.009140    0.007187    0.000889\n",
       "min     -0.055269   -0.048320   -0.034636    0.004987\n",
       "25%     -0.004389   -0.004012   -0.003855    0.006660\n",
       "50%      0.000459    0.001052    0.000312    0.007213\n",
       "75%      0.004979    0.005253    0.004595    0.007914\n",
       "max      0.031722    0.038187    0.053882    0.009352"
      ]
     },
     "execution_count": 8,
     "metadata": {},
     "output_type": "execute_result"
    }
   ],
   "source": [
    "returns.describe()"
   ]
  },
  {
   "cell_type": "code",
   "execution_count": 9,
   "metadata": {},
   "outputs": [
    {
     "data": {
      "image/png": "[encoded data removed]",
      "text/plain": [
       "<matplotlib.figure.Figure at 0xa6532b0>"
      ]
     },
     "metadata": {},
     "output_type": "display_data"
    }
   ],
   "source": [
    "returns['diff'].plot()\n",
    "plt.show()"
   ]
  },
  {
   "cell_type": "code",
   "execution_count": 10,
   "metadata": {},
   "outputs": [
    {
     "data": {
      "image/png": "[encoded data removed]",
      "text/plain": [
       "<matplotlib.figure.Figure at 0x957da58>"
      ]
     },
     "metadata": {},
     "output_type": "display_data"
    }
   ],
   "source": [
    "returns['rollSD'].plot()\n",
    "plt.show()"
   ]
  },
  {
   "cell_type": "markdown",
   "metadata": {},
   "source": [
    "Let's consider a simply trading rule:  Buy an amount proportional to minus the return differential.  The proportionality is set by .5 times the rolling SD.  \n",
    "\n",
    "This means that if _diff_ is _sdcut_ SDs above zero, we will put a -1 weight in long-UTF/short-IGF.  If _diff_ is _sdcut_ SDs below zero, our weight will be +1:"
   ]
  },
  {
   "cell_type": "code",
   "execution_count": 11,
   "metadata": {
    "collapsed": true
   },
   "outputs": [],
   "source": [
    "returns['weight'] = 0\n",
    "returns.loc[(returns['diff']/returns['rollSD']).shift(1) > sdcut,  'weight'] = -1\n",
    "returns.loc[(returns['diff']/returns['rollSD']).shift(1) < -sdcut, 'weight'] =  1"
   ]
  },
  {
   "cell_type": "code",
   "execution_count": 12,
   "metadata": {},
   "outputs": [
    {
     "data": {
      "image/png": "[encoded data removed]",
      "text/plain": [
       "<matplotlib.figure.Figure at 0xa704240>"
      ]
     },
     "metadata": {},
     "output_type": "display_data"
    }
   ],
   "source": [
    "returns['weight'].plot()\n",
    "plt.show()"
   ]
  },
  {
   "cell_type": "markdown",
   "metadata": {},
   "source": [
    "The return on our long/short portfolio is equal to our portfolio weight times the long/short differential:"
   ]
  },
  {
   "cell_type": "code",
   "execution_count": 13,
   "metadata": {
    "collapsed": true
   },
   "outputs": [],
   "source": [
    "returns['longshort']=returns['weight']*returns['diff']"
   ]
  },
  {
   "cell_type": "code",
   "execution_count": 14,
   "metadata": {},
   "outputs": [
    {
     "name": "stdout",
     "output_type": "stream",
     "text": [
      "              IGF         UTF        diff      rollSD      weight   longshort\n",
      "count  913.000000  913.000000  913.000000  913.000000  913.000000  913.000000\n",
      "mean     0.000150    0.000394    0.000245    0.007224   -0.001095    0.000107\n",
      "std      0.008263    0.009140    0.007187    0.000889    0.222128    0.002028\n",
      "min     -0.055269   -0.048320   -0.034636    0.004987   -1.000000   -0.020789\n",
      "25%     -0.004389   -0.004012   -0.003855    0.006660    0.000000   -0.000000\n",
      "50%      0.000459    0.001052    0.000312    0.007213    0.000000   -0.000000\n",
      "75%      0.004979    0.005253    0.004595    0.007914    0.000000   -0.000000\n",
      "max      0.031722    0.038187    0.053882    0.009352    1.000000    0.023881\n"
     ]
    }
   ],
   "source": [
    "rstats = returns.describe()\n",
    "print(rstats)"
   ]
  },
  {
   "cell_type": "markdown",
   "metadata": {},
   "source": [
    "At first glance, this looks great.  We earn almost 5 bps per day with just .42% volatility.  This is a huge annualized Sharpe!\n",
    "\n",
    "The question is whether this is realistic.  What do we need to take into account?"
   ]
  },
  {
   "cell_type": "code",
   "execution_count": 15,
   "metadata": {
    "collapsed": true
   },
   "outputs": [],
   "source": [
    "active=returns.loc[returns['weight']!=0]"
   ]
  },
  {
   "cell_type": "code",
   "execution_count": 16,
   "metadata": {},
   "outputs": [
    {
     "name": "stdout",
     "output_type": "stream",
     "text": [
      "             IGF        UTF       diff     rollSD     weight  longshort\n",
      "count  45.000000  45.000000  45.000000  45.000000  45.000000  45.000000\n",
      "mean   -0.000961  -0.002861  -0.001900   0.006686  -0.022222   0.002168\n",
      "std     0.011326   0.014750   0.009044   0.000968   1.011050   0.008982\n",
      "min    -0.028924  -0.047891  -0.023881   0.004987  -1.000000  -0.020789\n",
      "25%    -0.006055  -0.010282  -0.006837   0.005991  -1.000000  -0.003717\n",
      "50%     0.000465  -0.002097  -0.002753   0.006711  -1.000000   0.003269\n",
      "75%     0.005462   0.007579   0.003834   0.007247   1.000000   0.007017\n",
      "max     0.019649   0.023015   0.021850   0.009042   1.000000   0.023881\n"
     ]
    }
   ],
   "source": [
    "astats = active.describe()\n",
    "print(astats)"
   ]
  },
  {
   "cell_type": "code",
   "execution_count": 17,
   "metadata": {},
   "outputs": [
    {
     "name": "stdout",
     "output_type": "stream",
     "text": [
      "0.0526875038984\n"
     ]
    }
   ],
   "source": [
    "daily_sharpe = rstats.loc['mean','longshort'] / rstats.loc['std','longshort']\n",
    "print(daily_sharpe)"
   ]
  },
  {
   "cell_type": "code",
   "execution_count": 18,
   "metadata": {},
   "outputs": [
    {
     "name": "stdout",
     "output_type": "stream",
     "text": [
      "0.241356162975\n"
     ]
    }
   ],
   "source": [
    "active_sharpe = astats.loc['mean','longshort'] / astats.loc['std','longshort']\n",
    "print(active_sharpe)"
   ]
  },
  {
   "cell_type": "code",
   "execution_count": null,
   "metadata": {
    "collapsed": true
   },
   "outputs": [],
   "source": []
  }
 ],
 "metadata": {
  "kernelspec": {
   "display_name": "Python 3",
   "language": "python",
   "name": "python3"
  },
  "language_info": {
   "codemirror_mode": {
    "name": "ipython",
    "version": 3
   },
   "file_extension": ".py",
   "mimetype": "text/x-python",
   "name": "python",
   "nbconvert_exporter": "python",
   "pygments_lexer": "ipython3",
   "version": "3.6.3"
  }
 },
 "nbformat": 4,
 "nbformat_minor": 2
}
