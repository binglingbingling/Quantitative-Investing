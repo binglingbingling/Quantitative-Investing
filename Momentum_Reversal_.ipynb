{
 "cells": [
  {
   "cell_type": "code",
   "execution_count": 1,
   "metadata": {
    "collapsed": true
   },
   "outputs": [],
   "source": [
    "import numpy as np\n",
    "import pandas as pd"
   ]
  },
  {
   "cell_type": "code",
   "execution_count": 2,
   "metadata": {
    "collapsed": true
   },
   "outputs": [],
   "source": [
    "data = pd.read_hdf('etfdata_full.h5', 'etf_df');"
   ]
  },
  {
   "cell_type": "code",
   "execution_count": 3,
   "metadata": {},
   "outputs": [],
   "source": [
    "data = data.reset_index();\n",
    "data.dropna();"
   ]
  },
  {
   "cell_type": "code",
   "execution_count": 4,
   "metadata": {
    "collapsed": true
   },
   "outputs": [],
   "source": [
    "data = data[data['VOL'] != 0];"
   ]
  },
  {
   "cell_type": "code",
   "execution_count": 5,
   "metadata": {
    "collapsed": true
   },
   "outputs": [],
   "source": [
    "data['vol change'] = data['VOL'].astype(float).pct_change();"
   ]
  },
  {
   "cell_type": "code",
   "execution_count": 6,
   "metadata": {
    "collapsed": true
   },
   "outputs": [],
   "source": [
    "data.groupby('TICKER').first()['vol change'] = 0;"
   ]
  },
  {
   "cell_type": "code",
   "execution_count": 7,
   "metadata": {
    "collapsed": true
   },
   "outputs": [],
   "source": [
    "zscore = lambda x: (x - x.mean())/x.std();"
   ]
  },
  {
   "cell_type": "code",
   "execution_count": 8,
   "metadata": {},
   "outputs": [],
   "source": [
    "data['vol_change_z'] = data.groupby('TICKER')['vol change'].transform(zscore);\n",
    "data.dropna();"
   ]
  },
  {
   "cell_type": "code",
   "execution_count": 9,
   "metadata": {},
   "outputs": [],
   "source": [
    "data['reversal'] = (data['vol_change_z'] > -0.84) & (data['vol_change_z'] < 0.53);"
   ]
  },
  {
   "cell_type": "code",
   "execution_count": 10,
   "metadata": {},
   "outputs": [],
   "source": [
    "reversal=data.set_index(['TICKER','DATE'])\n",
    "reversal=reversal.reorder_levels(['DATE','TICKER'])\n",
    "reversal.sort_index(inplace=True)\n",
    "reversal = reversal.dropna();"
   ]
  },
  {
   "cell_type": "code",
   "execution_count": 11,
   "metadata": {
    "collapsed": true
   },
   "outputs": [],
   "source": [
    "def quintiles(inser):\n",
    "    outser = pd.qcut(inser, q=5, labels=range(1,6))\n",
    "    return outser"
   ]
  },
  {
   "cell_type": "code",
   "execution_count": 12,
   "metadata": {},
   "outputs": [],
   "source": [
    "reversal['QUINTILE'] = reversal['RET'].groupby(['DATE']).apply(quintiles);"
   ]
  },
  {
   "cell_type": "code",
   "execution_count": 13,
   "metadata": {
    "collapsed": true
   },
   "outputs": [],
   "source": [
    "reversal_q = reversal.groupby(['QUINTILE','DATE'])['RET'].mean();"
   ]
  },
  {
   "cell_type": "code",
   "execution_count": 14,
   "metadata": {},
   "outputs": [],
   "source": [
    "reversal['strat'] = 0;\n",
    "reversal['strat']=reversal['strat'].where((reversal['reversal'] != 1) | (reversal['QUINTILE'] != 1),1);\n",
    "reversal['strat']=reversal['strat'].where((reversal['reversal'] != 1) | (reversal['QUINTILE'] != 5),-1);"
   ]
  },
  {
   "cell_type": "code",
   "execution_count": 15,
   "metadata": {},
   "outputs": [],
   "source": [
    "reversal['shift_ret'] = reversal.groupby('TICKER')['RET'].shift(-5);"
   ]
  },
  {
   "cell_type": "code",
   "execution_count": 16,
   "metadata": {},
   "outputs": [],
   "source": [
    "reversal['strat_ret'] = reversal['shift_ret'] * reversal['strat']"
   ]
  },
  {
   "cell_type": "code",
   "execution_count": 17,
   "metadata": {},
   "outputs": [
    {
     "data": {
      "text/plain": [
       "count    3.445017e+06\n",
       "mean     8.419508e-05\n",
       "std      1.313953e-02\n",
       "min     -7.780664e-01\n",
       "25%      0.000000e+00\n",
       "50%     -0.000000e+00\n",
       "75%      0.000000e+00\n",
       "max      7.405064e-01\n",
       "Name: strat_ret, dtype: float64"
      ]
     },
     "execution_count": 17,
     "metadata": {},
     "output_type": "execute_result"
    }
   ],
   "source": [
    "reversal['strat_ret'].describe()"
   ]
  },
  {
   "cell_type": "code",
   "execution_count": 18,
   "metadata": {},
   "outputs": [
    {
     "data": {
      "text/plain": [
       "0.10131571487543953"
      ]
     },
     "execution_count": 18,
     "metadata": {},
     "output_type": "execute_result"
    }
   ],
   "source": [
    "sharpe = reversal['strat_ret'].describe()['mean']/reversal['strat_ret'].describe()['std'] * np.sqrt(250)\n",
    "sharpe"
   ]
  },
  {
   "cell_type": "code",
   "execution_count": 25,
   "metadata": {},
   "outputs": [
    {
     "data": {
      "text/plain": [
       "-5.9259258387610334"
      ]
     },
     "execution_count": 25,
     "metadata": {},
     "output_type": "execute_result"
    }
   ],
   "source": [
    "ret = reversal['strat_ret'].dropna()\n",
    "max_dd = (ret/ret.cummax()-1).replace(-np.inf, np.nan).min()\n",
    "max_dd"
   ]
  },
  {
   "cell_type": "code",
   "execution_count": null,
   "metadata": {
    "collapsed": true
   },
   "outputs": [],
   "source": []
  }
 ],
 "metadata": {
  "anaconda-cloud": {},
  "kernelspec": {
   "display_name": "Python 3",
   "language": "python",
   "name": "python3"
  },
  "language_info": {
   "codemirror_mode": {
    "name": "ipython",
    "version": 3
   },
   "file_extension": ".py",
   "mimetype": "text/x-python",
   "name": "python",
   "nbconvert_exporter": "python",
   "pygments_lexer": "ipython3",
   "version": "3.6.3"
  }
 },
 "nbformat": 4,
 "nbformat_minor": 1
}
