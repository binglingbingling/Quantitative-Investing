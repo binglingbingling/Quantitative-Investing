{
 "cells": [
  {
   "cell_type": "code",
   "execution_count": 1,
   "metadata": {
    "collapsed": true
   },
   "outputs": [],
   "source": [
    "import pandas as pd\n",
    "import numpy as np\n",
    "import statsmodels.formula.api as smf"
   ]
  },
  {
   "cell_type": "code",
   "execution_count": 2,
   "metadata": {
    "collapsed": true
   },
   "outputs": [],
   "source": [
    "spy = pd.read_csv('SPY.csv',   parse_dates=[0], index_col=[0])\n",
    "naesx = pd.read_csv('NAESX.csv',   parse_dates=[0], index_col=[0])\n",
    "irx = pd.read_csv('^IRX.csv',  parse_dates=[0], index_col=[0])"
   ]
  },
  {
   "cell_type": "markdown",
   "metadata": {},
   "source": [
    "# Compute Ret od NAESX and IRX"
   ]
  },
  {
   "cell_type": "code",
   "execution_count": 3,
   "metadata": {
    "collapsed": true
   },
   "outputs": [],
   "source": [
    "naesx['Ret'] = naesx['Adj Close'].pct_change()"
   ]
  },
  {
   "cell_type": "code",
   "execution_count": 4,
   "metadata": {},
   "outputs": [],
   "source": [
    "irx['Ret'] = irx['Close'].shift()/1200"
   ]
  },
  {
   "attachments": {},
   "cell_type": "markdown",
   "metadata": {},
   "source": [
    "# Reversal Strategy(without redemption fees)"
   ]
  },
  {
   "cell_type": "code",
   "execution_count": 5,
   "metadata": {},
   "outputs": [],
   "source": [
    "Return = pd.DataFrame(index = spy.index)\n",
    "Return['spy_Ret'] = spy['Adj Close'].pct_change()\n",
    "Return['naesx_Ret'] = naesx['Adj Close'].pct_change()\n",
    "Return['irx_Ret'] = irx['Close'].shift()/1200"
   ]
  },
  {
   "cell_type": "code",
   "execution_count": 6,
   "metadata": {},
   "outputs": [
    {
     "name": "stderr",
     "output_type": "stream",
     "text": [
      "/anaconda3/lib/python3.6/site-packages/pandas/core/indexing.py:194: SettingWithCopyWarning: \n",
      "A value is trying to be set on a copy of a slice from a DataFrame\n",
      "\n",
      "See the caveats in the documentation: http://pandas.pydata.org/pandas-docs/stable/indexing.html#indexing-view-versus-copy\n",
      "  self._setitem_with_indexer(indexer, value)\n"
     ]
    }
   ],
   "source": [
    "Return['spy_decision'] = 0\n",
    "Return['naesx_decision'] = 0\n",
    "Return['spy_decision'].loc[Return['spy_Ret'] <= Return['naesx_Ret']] = 1\n",
    "Return['naesx_decision'].loc[Return['spy_Ret'] > Return['naesx_Ret']] = 1"
   ]
  },
  {
   "cell_type": "code",
   "execution_count": 7,
   "metadata": {},
   "outputs": [],
   "source": [
    "Return['portfolio_Ret'] = Return['spy_Ret'] * Return['spy_decision'] + Return['naesx_Ret'] * Return['naesx_decision']\n",
    "Return.dropna(inplace=True)"
   ]
  },
  {
   "cell_type": "code",
   "execution_count": 8,
   "metadata": {},
   "outputs": [
    {
     "data": {
      "text/html": [
       "<div>\n",
       "<style scoped>\n",
       "    .dataframe tbody tr th:only-of-type {\n",
       "        vertical-align: middle;\n",
       "    }\n",
       "\n",
       "    .dataframe tbody tr th {\n",
       "        vertical-align: top;\n",
       "    }\n",
       "\n",
       "    .dataframe thead th {\n",
       "        text-align: right;\n",
       "    }\n",
       "</style>\n",
       "<table border=\"1\" class=\"dataframe\">\n",
       "  <thead>\n",
       "    <tr style=\"text-align: right;\">\n",
       "      <th></th>\n",
       "      <th>spy_Ret</th>\n",
       "      <th>naesx_Ret</th>\n",
       "      <th>irx_Ret</th>\n",
       "      <th>spy_decision</th>\n",
       "      <th>naesx_decision</th>\n",
       "      <th>portfolio_Ret</th>\n",
       "    </tr>\n",
       "    <tr>\n",
       "      <th>Date</th>\n",
       "      <th></th>\n",
       "      <th></th>\n",
       "      <th></th>\n",
       "      <th></th>\n",
       "      <th></th>\n",
       "      <th></th>\n",
       "    </tr>\n",
       "  </thead>\n",
       "  <tbody>\n",
       "    <tr>\n",
       "      <th>2000-02-01</th>\n",
       "      <td>-0.015226</td>\n",
       "      <td>0.165087</td>\n",
       "      <td>0.004608</td>\n",
       "      <td>1</td>\n",
       "      <td>0</td>\n",
       "      <td>-0.015226</td>\n",
       "    </tr>\n",
       "    <tr>\n",
       "      <th>2000-03-01</th>\n",
       "      <td>0.094134</td>\n",
       "      <td>-0.074362</td>\n",
       "      <td>0.004700</td>\n",
       "      <td>0</td>\n",
       "      <td>1</td>\n",
       "      <td>-0.074362</td>\n",
       "    </tr>\n",
       "    <tr>\n",
       "      <th>2000-04-01</th>\n",
       "      <td>-0.032669</td>\n",
       "      <td>-0.051964</td>\n",
       "      <td>0.004767</td>\n",
       "      <td>0</td>\n",
       "      <td>1</td>\n",
       "      <td>-0.051964</td>\n",
       "    </tr>\n",
       "    <tr>\n",
       "      <th>2000-05-01</th>\n",
       "      <td>-0.015722</td>\n",
       "      <td>-0.057799</td>\n",
       "      <td>0.004708</td>\n",
       "      <td>0</td>\n",
       "      <td>1</td>\n",
       "      <td>-0.057799</td>\n",
       "    </tr>\n",
       "    <tr>\n",
       "      <th>2000-06-01</th>\n",
       "      <td>0.017286</td>\n",
       "      <td>0.094272</td>\n",
       "      <td>0.004575</td>\n",
       "      <td>1</td>\n",
       "      <td>0</td>\n",
       "      <td>0.017286</td>\n",
       "    </tr>\n",
       "  </tbody>\n",
       "</table>\n",
       "</div>"
      ],
      "text/plain": [
       "             spy_Ret  naesx_Ret   irx_Ret  spy_decision  naesx_decision  \\\n",
       "Date                                                                      \n",
       "2000-02-01 -0.015226   0.165087  0.004608             1               0   \n",
       "2000-03-01  0.094134  -0.074362  0.004700             0               1   \n",
       "2000-04-01 -0.032669  -0.051964  0.004767             0               1   \n",
       "2000-05-01 -0.015722  -0.057799  0.004708             0               1   \n",
       "2000-06-01  0.017286   0.094272  0.004575             1               0   \n",
       "\n",
       "            portfolio_Ret  \n",
       "Date                       \n",
       "2000-02-01      -0.015226  \n",
       "2000-03-01      -0.074362  \n",
       "2000-04-01      -0.051964  \n",
       "2000-05-01      -0.057799  \n",
       "2000-06-01       0.017286  "
      ]
     },
     "execution_count": 8,
     "metadata": {},
     "output_type": "execute_result"
    }
   ],
   "source": [
    "Return.head()"
   ]
  },
  {
   "cell_type": "code",
   "execution_count": 9,
   "metadata": {
    "collapsed": true
   },
   "outputs": [],
   "source": [
    "Return_adj = pd.DataFrame(index = Return.index)\n",
    "Return_adj['spy'] = Return['spy_Ret'] - Return['irx_Ret']\n",
    "Return_adj['portfolio'] = Return['portfolio_Ret'] - Return['irx_Ret']"
   ]
  },
  {
   "cell_type": "code",
   "execution_count": 10,
   "metadata": {
    "collapsed": true
   },
   "outputs": [],
   "source": [
    "def Sharpe_cal(ret_data):\n",
    "    output = ret_data.mean()/ret_data.std() * np.sqrt(12)\n",
    "    return output\n",
    "\n",
    "def alpha_beta_cal(data):\n",
    "    model = smf.ols('portfolio ~ spy', data=data).fit()\n",
    "    \n",
    "    alpha = model.params.iloc[0]\n",
    "    beta = model.params.iloc[1]\n",
    "    return (alpha, beta)\n",
    "\n",
    "def max_drawdown(ret_data):\n",
    "    output = ret_data.cummax().iloc[-1] - ret_data.cummin().iloc[-1]\n",
    "    return output\n",
    "\n",
    "def Sortino_cal(ret_data, target_ret=0):\n",
    "    # Return for Sortino\n",
    "    ret = ret_data - target_ret\n",
    "    # Downside Risk\n",
    "    downside_ret = np.minimum(ret_data, target_ret)\n",
    "    downside_risk = downside_ret.std()\n",
    "    # Sortino\n",
    "    output = ret.mean()/downside_risk * np.sqrt(12)\n",
    "    return output"
   ]
  },
  {
   "cell_type": "code",
   "execution_count": 11,
   "metadata": {
    "collapsed": true
   },
   "outputs": [],
   "source": [
    "Sharpe = Sharpe_cal(Return_adj['portfolio'])\n",
    "Alpha, Beta = alpha_beta_cal(Return_adj)\n",
    "Drawdown = max_drawdown(Return_adj['portfolio'])\n",
    "Sortino = Sortino_cal(Return_adj['portfolio'])"
   ]
  },
  {
   "cell_type": "code",
   "execution_count": 12,
   "metadata": {},
   "outputs": [
    {
     "data": {
      "text/plain": [
       "Sharpe     -0.376095\n",
       "Sortino    -0.530197\n",
       "Alpha      -0.009643\n",
       "Beta        1.043257\n",
       "Drawdown    0.330844\n",
       "dtype: float64"
      ]
     },
     "execution_count": 12,
     "metadata": {},
     "output_type": "execute_result"
    }
   ],
   "source": [
    "Analyzers = pd.Series([Sharpe, Sortino, Alpha, Beta, Drawdown], index = ['Sharpe', 'Sortino', 'Alpha', 'Beta', 'Drawdown'])\n",
    "Analyzers"
   ]
  },
  {
   "attachments": {},
   "cell_type": "markdown",
   "metadata": {},
   "source": [
    "# Reversal Strategy(without redemption consideration)\n",
    "#### holding NAESX for three months or more"
   ]
  },
  {
   "cell_type": "code",
   "execution_count": 13,
   "metadata": {},
   "outputs": [],
   "source": [
    "naesx_decision = list(Return.naesx_decision)\n",
    "holding_period = 0\n",
    "final_decision = []\n",
    "\n",
    "for i in naesx_decision:\n",
    "    if i == 1:\n",
    "        final_decision.append(1)\n",
    "        holding_period += 1\n",
    "    \n",
    "    if (i == 0) and (holding_period ==0 or holding_period >= 3):\n",
    "        final_decision.append(0)\n",
    "        holding_period = 0\n",
    "        \n",
    "    if (i == 0) and (holding_period >0 and holding_period < 3):\n",
    "        final_decision.append(1)\n",
    "        holding_period += 1\n",
    "\n",
    "Return['Decision'] = final_decision"
   ]
  },
  {
   "cell_type": "code",
   "execution_count": 14,
   "metadata": {},
   "outputs": [],
   "source": [
    "Return['portfolio2_Ret'] = Return['spy_Ret'] * (-1*(Return['Decision']-1)) + Return['naesx_Ret'] * Return['Decision']"
   ]
  },
  {
   "cell_type": "code",
   "execution_count": 15,
   "metadata": {},
   "outputs": [],
   "source": [
    "Return_adj2 = pd.DataFrame(index = Return.index)\n",
    "Return_adj2['spy'] = Return['spy_Ret'] - Return['irx_Ret']\n",
    "Return_adj2['portfolio'] = Return['portfolio2_Ret'] - Return['irx_Ret']"
   ]
  },
  {
   "cell_type": "code",
   "execution_count": 16,
   "metadata": {
    "collapsed": true
   },
   "outputs": [],
   "source": [
    "Sharpe2 = Sharpe_cal(Return_adj2['portfolio'])\n",
    "Alpha2, Beta2 = alpha_beta_cal(Return_adj2)\n",
    "Drawdown2 = max_drawdown(Return_adj2['portfolio'])\n",
    "Sortino2 = Sortino_cal(Return_adj2['portfolio'])"
   ]
  },
  {
   "cell_type": "code",
   "execution_count": 17,
   "metadata": {},
   "outputs": [
    {
     "data": {
      "text/plain": [
       "Sharpe     -0.036795\n",
       "Sortino    -0.055027\n",
       "Alpha      -0.005008\n",
       "Beta        1.041049\n",
       "Drawdown    0.330844\n",
       "dtype: float64"
      ]
     },
     "execution_count": 17,
     "metadata": {},
     "output_type": "execute_result"
    }
   ],
   "source": [
    "Analyzers2 = pd.Series([Sharpe2, Sortino2, Alpha2, Beta2, Drawdown2], index = ['Sharpe', 'Sortino', 'Alpha', 'Beta', 'Drawdown'])\n",
    "Analyzers2"
   ]
  }
 ],
 "metadata": {
  "kernelspec": {
   "display_name": "Python 3",
   "language": "python",
   "name": "python3"
  },
  "language_info": {
   "codemirror_mode": {
    "name": "ipython",
    "version": 3
   },
   "file_extension": ".py",
   "mimetype": "text/x-python",
   "name": "python",
   "nbconvert_exporter": "python",
   "pygments_lexer": "ipython3",
   "version": "3.6.3"
  }
 },
 "nbformat": 4,
 "nbformat_minor": 2
}
