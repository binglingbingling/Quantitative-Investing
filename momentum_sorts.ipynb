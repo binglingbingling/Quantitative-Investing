{
 "cells": [
  {
   "cell_type": "markdown",
   "metadata": {},
   "source": [
    "As usual, we import Pandas and Numpy.  I'm also going to use a nice function called MonthEnd, which I will explain below."
   ]
  },
  {
   "cell_type": "code",
   "execution_count": 1,
   "metadata": {
    "collapsed": true
   },
   "outputs": [],
   "source": [
    "import pandas as pd\n",
    "import numpy as np\n",
    "from pandas.tseries.offsets import MonthEnd\n",
    "import matplotlib.pyplot as plt"
   ]
  },
  {
   "cell_type": "markdown",
   "metadata": {},
   "source": [
    "As I did in the smart beta notebook, I will use a function for computing weighted averages.  This will be used to construct returns on cap-weighted portfolios:"
   ]
  },
  {
   "cell_type": "code",
   "execution_count": 2,
   "metadata": {
    "collapsed": true
   },
   "outputs": [],
   "source": [
    "def weighted_average(df,data_col,weight_col,by_col):\n",
    "    df['_data_times_weight'] = df[data_col]*df[weight_col]\n",
    "    df['_weight_where_notnull'] = df[weight_col]*pd.notnull(df[data_col])\n",
    "    g = df.groupby(by_col)\n",
    "    result = g['_data_times_weight'].sum() / g['_weight_where_notnull'].sum()\n",
    "    del df['_data_times_weight'], df['_weight_where_notnull']\n",
    "    return result"
   ]
  },
  {
   "cell_type": "markdown",
   "metadata": {},
   "source": [
    "After we read in returns, we will want to convert them to excess returns in order to be able to compute Sharpe ratios.  This is a cleaned-up file of risk-free returns from Ken French's website."
   ]
  },
  {
   "cell_type": "code",
   "execution_count": 3,
   "metadata": {},
   "outputs": [
    {
     "data": {
      "text/html": [
       "<div>\n",
       "<style scoped>\n",
       "    .dataframe tbody tr th:only-of-type {\n",
       "        vertical-align: middle;\n",
       "    }\n",
       "\n",
       "    .dataframe tbody tr th {\n",
       "        vertical-align: top;\n",
       "    }\n",
       "\n",
       "    .dataframe thead th {\n",
       "        text-align: right;\n",
       "    }\n",
       "</style>\n",
       "<table border=\"1\" class=\"dataframe\">\n",
       "  <thead>\n",
       "    <tr style=\"text-align: right;\">\n",
       "      <th></th>\n",
       "      <th>RF</th>\n",
       "    </tr>\n",
       "    <tr>\n",
       "      <th>DATE</th>\n",
       "      <th></th>\n",
       "    </tr>\n",
       "  </thead>\n",
       "  <tbody>\n",
       "    <tr>\n",
       "      <th>1926-07-31</th>\n",
       "      <td>0.0022</td>\n",
       "    </tr>\n",
       "    <tr>\n",
       "      <th>1926-08-31</th>\n",
       "      <td>0.0025</td>\n",
       "    </tr>\n",
       "    <tr>\n",
       "      <th>1926-09-30</th>\n",
       "      <td>0.0023</td>\n",
       "    </tr>\n",
       "    <tr>\n",
       "      <th>1926-10-31</th>\n",
       "      <td>0.0032</td>\n",
       "    </tr>\n",
       "    <tr>\n",
       "      <th>1926-11-30</th>\n",
       "      <td>0.0031</td>\n",
       "    </tr>\n",
       "  </tbody>\n",
       "</table>\n",
       "</div>"
      ],
      "text/plain": [
       "                RF\n",
       "DATE              \n",
       "1926-07-31  0.0022\n",
       "1926-08-31  0.0025\n",
       "1926-09-30  0.0023\n",
       "1926-10-31  0.0032\n",
       "1926-11-30  0.0031"
      ]
     },
     "execution_count": 3,
     "metadata": {},
     "output_type": "execute_result"
    }
   ],
   "source": [
    "rf = pd.read_csv('risk-free_return.csv', parse_dates=[0], index_col=[0])\n",
    "rf.head()"
   ]
  },
  {
   "cell_type": "markdown",
   "metadata": {},
   "source": [
    "Here I'm reading in the same monthly CRSP data used previously.  To run this notebook, you'll need to download data from the zip file contained in the crsp_compustat folder."
   ]
  },
  {
   "cell_type": "code",
   "execution_count": 4,
   "metadata": {
    "collapsed": true
   },
   "outputs": [],
   "source": [
    "stocks = pd.read_hdf('crsp_monthly_stocks.h5', 'crsp')"
   ]
  },
  {
   "cell_type": "markdown",
   "metadata": {},
   "source": [
    "As before, we're going to clean up the data a bit.  The code below does the following:\n",
    "\n",
    "1. Shift the date so that it is always the last day of the month, rather than the last trading day.  This will make it easier to merge in with other datasets.\n",
    "2. Take the absolute value of the closing price.  For shares that don't trade, CRSP sets the price equal to the closing bid-ask midpoint, but it makes the price negative as a warning about this.\n",
    "3. Define market value (MV) as the product of shares outstanding and closing price.\n",
    "4. Drop shares outstanding, which we won't use again, and the share code.  We use the share code when we download data from WRDS.  Selecting share codes of 10 or 11 means that we will be downloading common equity and not other securities (ETFs, REITS, etc.).  Also drop EXCHCD, SICCD, PRC, and VOL to make the dataframe easier to display.\n",
    "5. Set the index to PERMNO/DATE.\n",
    "6. Sort by the index.\n",
    "7. Lag market value by one month.\n",
    "8. Look at the dataframe."
   ]
  },
  {
   "cell_type": "code",
   "execution_count": 5,
   "metadata": {},
   "outputs": [
    {
     "data": {
      "text/html": [
       "<div>\n",
       "<style scoped>\n",
       "    .dataframe tbody tr th:only-of-type {\n",
       "        vertical-align: middle;\n",
       "    }\n",
       "\n",
       "    .dataframe tbody tr th {\n",
       "        vertical-align: top;\n",
       "    }\n",
       "\n",
       "    .dataframe thead th {\n",
       "        text-align: right;\n",
       "    }\n",
       "</style>\n",
       "<table border=\"1\" class=\"dataframe\">\n",
       "  <thead>\n",
       "    <tr style=\"text-align: right;\">\n",
       "      <th></th>\n",
       "      <th></th>\n",
       "      <th>RET</th>\n",
       "      <th>MV</th>\n",
       "      <th>lagMV</th>\n",
       "    </tr>\n",
       "    <tr>\n",
       "      <th>PERMNO</th>\n",
       "      <th>DATE</th>\n",
       "      <th></th>\n",
       "      <th></th>\n",
       "      <th></th>\n",
       "    </tr>\n",
       "  </thead>\n",
       "  <tbody>\n",
       "    <tr>\n",
       "      <th rowspan=\"5\" valign=\"top\">10000.0</th>\n",
       "      <th>1986-01-31</th>\n",
       "      <td>NaN</td>\n",
       "      <td>16100.000000</td>\n",
       "      <td>NaN</td>\n",
       "    </tr>\n",
       "    <tr>\n",
       "      <th>1986-02-28</th>\n",
       "      <td>-0.257143</td>\n",
       "      <td>11960.000000</td>\n",
       "      <td>16100.0</td>\n",
       "    </tr>\n",
       "    <tr>\n",
       "      <th>1986-03-31</th>\n",
       "      <td>0.365385</td>\n",
       "      <td>16330.000000</td>\n",
       "      <td>11960.0</td>\n",
       "    </tr>\n",
       "    <tr>\n",
       "      <th>1986-04-30</th>\n",
       "      <td>-0.098592</td>\n",
       "      <td>15172.000000</td>\n",
       "      <td>16330.0</td>\n",
       "    </tr>\n",
       "    <tr>\n",
       "      <th>1986-05-31</th>\n",
       "      <td>-0.222656</td>\n",
       "      <td>11793.859375</td>\n",
       "      <td>15172.0</td>\n",
       "    </tr>\n",
       "  </tbody>\n",
       "</table>\n",
       "</div>"
      ],
      "text/plain": [
       "                         RET            MV    lagMV\n",
       "PERMNO  DATE                                       \n",
       "10000.0 1986-01-31       NaN  16100.000000      NaN\n",
       "        1986-02-28 -0.257143  11960.000000  16100.0\n",
       "        1986-03-31  0.365385  16330.000000  11960.0\n",
       "        1986-04-30 -0.098592  15172.000000  16330.0\n",
       "        1986-05-31 -0.222656  11793.859375  15172.0"
      ]
     },
     "execution_count": 5,
     "metadata": {},
     "output_type": "execute_result"
    }
   ],
   "source": [
    "stocks['DATE'] = stocks['DATE'] + MonthEnd(0)\n",
    "stocks['PRC']  = np.abs(stocks['PRC'])\n",
    "stocks['MV']   = stocks['SHROUT']*stocks['PRC']\n",
    "stocks.drop(['SHROUT','SHRCD','EXCHCD','SICCD','PRC','VOL'], axis=1, inplace=True)\n",
    "stocks.set_index(['PERMNO','DATE'], inplace=True)\n",
    "stocks.sort_index(inplace=True)\n",
    "stocks['lagMV'] = stocks.groupby('PERMNO')['MV'].shift()\n",
    "stocks.head()"
   ]
  },
  {
   "cell_type": "markdown",
   "metadata": {},
   "source": [
    "Eliminating any duplicate PERMNO/DATE rows:"
   ]
  },
  {
   "cell_type": "code",
   "execution_count": 6,
   "metadata": {
    "collapsed": true
   },
   "outputs": [],
   "source": [
    "stocks = stocks.sort_values(by = ['PERMNO','DATE','MV'], ascending = [True, True, False])\n",
    "stocks = stocks[~stocks.index.duplicated(keep='first')]"
   ]
  },
  {
   "cell_type": "markdown",
   "metadata": {},
   "source": [
    "Now I will compute momentum.  As is most common, I will define momentum as the cumulative return from 12 months prior to the start of the holding period to 1 month prior to the start of the holding period.\n",
    "\n",
    "The first step is to calculate the cumulative gross return for each stock starting in the first month that the stock exists in the database:"
   ]
  },
  {
   "cell_type": "code",
   "execution_count": 7,
   "metadata": {},
   "outputs": [
    {
     "data": {
      "text/html": [
       "<div>\n",
       "<style scoped>\n",
       "    .dataframe tbody tr th:only-of-type {\n",
       "        vertical-align: middle;\n",
       "    }\n",
       "\n",
       "    .dataframe tbody tr th {\n",
       "        vertical-align: top;\n",
       "    }\n",
       "\n",
       "    .dataframe thead th {\n",
       "        text-align: right;\n",
       "    }\n",
       "</style>\n",
       "<table border=\"1\" class=\"dataframe\">\n",
       "  <thead>\n",
       "    <tr style=\"text-align: right;\">\n",
       "      <th></th>\n",
       "      <th></th>\n",
       "      <th>RET</th>\n",
       "      <th>MV</th>\n",
       "      <th>lagMV</th>\n",
       "      <th>CUMGROSSRET</th>\n",
       "    </tr>\n",
       "    <tr>\n",
       "      <th>PERMNO</th>\n",
       "      <th>DATE</th>\n",
       "      <th></th>\n",
       "      <th></th>\n",
       "      <th></th>\n",
       "      <th></th>\n",
       "    </tr>\n",
       "  </thead>\n",
       "  <tbody>\n",
       "    <tr>\n",
       "      <th rowspan=\"5\" valign=\"top\">10000.0</th>\n",
       "      <th>1986-01-31</th>\n",
       "      <td>NaN</td>\n",
       "      <td>16100.000000</td>\n",
       "      <td>NaN</td>\n",
       "      <td>NaN</td>\n",
       "    </tr>\n",
       "    <tr>\n",
       "      <th>1986-02-28</th>\n",
       "      <td>-0.257143</td>\n",
       "      <td>11960.000000</td>\n",
       "      <td>16100.0</td>\n",
       "      <td>0.742857</td>\n",
       "    </tr>\n",
       "    <tr>\n",
       "      <th>1986-03-31</th>\n",
       "      <td>0.365385</td>\n",
       "      <td>16330.000000</td>\n",
       "      <td>11960.0</td>\n",
       "      <td>1.014286</td>\n",
       "    </tr>\n",
       "    <tr>\n",
       "      <th>1986-04-30</th>\n",
       "      <td>-0.098592</td>\n",
       "      <td>15172.000000</td>\n",
       "      <td>16330.0</td>\n",
       "      <td>0.914286</td>\n",
       "    </tr>\n",
       "    <tr>\n",
       "      <th>1986-05-31</th>\n",
       "      <td>-0.222656</td>\n",
       "      <td>11793.859375</td>\n",
       "      <td>15172.0</td>\n",
       "      <td>0.710714</td>\n",
       "    </tr>\n",
       "  </tbody>\n",
       "</table>\n",
       "</div>"
      ],
      "text/plain": [
       "                         RET            MV    lagMV  CUMGROSSRET\n",
       "PERMNO  DATE                                                    \n",
       "10000.0 1986-01-31       NaN  16100.000000      NaN          NaN\n",
       "        1986-02-28 -0.257143  11960.000000  16100.0     0.742857\n",
       "        1986-03-31  0.365385  16330.000000  11960.0     1.014286\n",
       "        1986-04-30 -0.098592  15172.000000  16330.0     0.914286\n",
       "        1986-05-31 -0.222656  11793.859375  15172.0     0.710714"
      ]
     },
     "execution_count": 7,
     "metadata": {},
     "output_type": "execute_result"
    }
   ],
   "source": [
    "stocks['CUMGROSSRET'] = (1+stocks['RET']).groupby('PERMNO').cumprod()\n",
    "stocks.head()"
   ]
  },
  {
   "cell_type": "markdown",
   "metadata": {},
   "source": [
    "Now we want to compute the growth rate in the cumulative gross return from 13 months ago to 2 months ago.  That will give us an 11-month return over the period that ends one month before we are going to invest.\n",
    "\n",
    "To see how important it is to put a month in between the period in which momentum is computed and the period in which the investment is made, I consider a second momentum measure that is identical except that it does not lag by an extra month."
   ]
  },
  {
   "cell_type": "code",
   "execution_count": 8,
   "metadata": {},
   "outputs": [
    {
     "data": {
      "text/html": [
       "<div>\n",
       "<style scoped>\n",
       "    .dataframe tbody tr th:only-of-type {\n",
       "        vertical-align: middle;\n",
       "    }\n",
       "\n",
       "    .dataframe tbody tr th {\n",
       "        vertical-align: top;\n",
       "    }\n",
       "\n",
       "    .dataframe thead th {\n",
       "        text-align: right;\n",
       "    }\n",
       "</style>\n",
       "<table border=\"1\" class=\"dataframe\">\n",
       "  <thead>\n",
       "    <tr style=\"text-align: right;\">\n",
       "      <th></th>\n",
       "      <th></th>\n",
       "      <th>RET</th>\n",
       "      <th>MV</th>\n",
       "      <th>lagMV</th>\n",
       "      <th>CUMGROSSRET</th>\n",
       "      <th>MOM1</th>\n",
       "      <th>MOM2</th>\n",
       "    </tr>\n",
       "    <tr>\n",
       "      <th>PERMNO</th>\n",
       "      <th>DATE</th>\n",
       "      <th></th>\n",
       "      <th></th>\n",
       "      <th></th>\n",
       "      <th></th>\n",
       "      <th></th>\n",
       "      <th></th>\n",
       "    </tr>\n",
       "  </thead>\n",
       "  <tbody>\n",
       "    <tr>\n",
       "      <th rowspan=\"18\" valign=\"top\">10000.0</th>\n",
       "      <th>1986-01-31</th>\n",
       "      <td>NaN</td>\n",
       "      <td>16100.000000</td>\n",
       "      <td>NaN</td>\n",
       "      <td>NaN</td>\n",
       "      <td>NaN</td>\n",
       "      <td>NaN</td>\n",
       "    </tr>\n",
       "    <tr>\n",
       "      <th>1986-02-28</th>\n",
       "      <td>-0.257143</td>\n",
       "      <td>11960.000000</td>\n",
       "      <td>16100.000000</td>\n",
       "      <td>0.742857</td>\n",
       "      <td>NaN</td>\n",
       "      <td>NaN</td>\n",
       "    </tr>\n",
       "    <tr>\n",
       "      <th>1986-03-31</th>\n",
       "      <td>0.365385</td>\n",
       "      <td>16330.000000</td>\n",
       "      <td>11960.000000</td>\n",
       "      <td>1.014286</td>\n",
       "      <td>NaN</td>\n",
       "      <td>NaN</td>\n",
       "    </tr>\n",
       "    <tr>\n",
       "      <th>1986-04-30</th>\n",
       "      <td>-0.098592</td>\n",
       "      <td>15172.000000</td>\n",
       "      <td>16330.000000</td>\n",
       "      <td>0.914286</td>\n",
       "      <td>NaN</td>\n",
       "      <td>NaN</td>\n",
       "    </tr>\n",
       "    <tr>\n",
       "      <th>1986-05-31</th>\n",
       "      <td>-0.222656</td>\n",
       "      <td>11793.859375</td>\n",
       "      <td>15172.000000</td>\n",
       "      <td>0.710714</td>\n",
       "      <td>NaN</td>\n",
       "      <td>NaN</td>\n",
       "    </tr>\n",
       "    <tr>\n",
       "      <th>1986-06-30</th>\n",
       "      <td>-0.005025</td>\n",
       "      <td>11734.593750</td>\n",
       "      <td>11793.859375</td>\n",
       "      <td>0.707143</td>\n",
       "      <td>NaN</td>\n",
       "      <td>NaN</td>\n",
       "    </tr>\n",
       "    <tr>\n",
       "      <th>1986-07-31</th>\n",
       "      <td>-0.080808</td>\n",
       "      <td>10786.343750</td>\n",
       "      <td>11734.593750</td>\n",
       "      <td>0.650000</td>\n",
       "      <td>NaN</td>\n",
       "      <td>NaN</td>\n",
       "    </tr>\n",
       "    <tr>\n",
       "      <th>1986-08-31</th>\n",
       "      <td>-0.615385</td>\n",
       "      <td>4148.593750</td>\n",
       "      <td>10786.343750</td>\n",
       "      <td>0.250000</td>\n",
       "      <td>NaN</td>\n",
       "      <td>NaN</td>\n",
       "    </tr>\n",
       "    <tr>\n",
       "      <th>1986-09-30</th>\n",
       "      <td>-0.057143</td>\n",
       "      <td>3911.531250</td>\n",
       "      <td>4148.593750</td>\n",
       "      <td>0.235714</td>\n",
       "      <td>NaN</td>\n",
       "      <td>NaN</td>\n",
       "    </tr>\n",
       "    <tr>\n",
       "      <th>1986-10-31</th>\n",
       "      <td>-0.242424</td>\n",
       "      <td>3002.343750</td>\n",
       "      <td>3911.531250</td>\n",
       "      <td>0.178571</td>\n",
       "      <td>NaN</td>\n",
       "      <td>NaN</td>\n",
       "    </tr>\n",
       "    <tr>\n",
       "      <th>1986-11-30</th>\n",
       "      <td>0.060000</td>\n",
       "      <td>3182.484375</td>\n",
       "      <td>3002.343750</td>\n",
       "      <td>0.189286</td>\n",
       "      <td>NaN</td>\n",
       "      <td>NaN</td>\n",
       "    </tr>\n",
       "    <tr>\n",
       "      <th>1986-12-31</th>\n",
       "      <td>-0.377358</td>\n",
       "      <td>1981.546875</td>\n",
       "      <td>3182.484375</td>\n",
       "      <td>0.117857</td>\n",
       "      <td>NaN</td>\n",
       "      <td>NaN</td>\n",
       "    </tr>\n",
       "    <tr>\n",
       "      <th>1987-01-31</th>\n",
       "      <td>-0.212121</td>\n",
       "      <td>1581.531250</td>\n",
       "      <td>1981.546875</td>\n",
       "      <td>0.092857</td>\n",
       "      <td>NaN</td>\n",
       "      <td>NaN</td>\n",
       "    </tr>\n",
       "    <tr>\n",
       "      <th>1987-02-28</th>\n",
       "      <td>0.000000</td>\n",
       "      <td>1581.531250</td>\n",
       "      <td>1581.531250</td>\n",
       "      <td>0.092857</td>\n",
       "      <td>NaN</td>\n",
       "      <td>-0.875000</td>\n",
       "    </tr>\n",
       "    <tr>\n",
       "      <th>1987-03-31</th>\n",
       "      <td>-0.384615</td>\n",
       "      <td>973.250000</td>\n",
       "      <td>1581.531250</td>\n",
       "      <td>0.057143</td>\n",
       "      <td>-0.875000</td>\n",
       "      <td>-0.908451</td>\n",
       "    </tr>\n",
       "    <tr>\n",
       "      <th>1987-04-30</th>\n",
       "      <td>-0.062500</td>\n",
       "      <td>912.421875</td>\n",
       "      <td>973.250000</td>\n",
       "      <td>0.053571</td>\n",
       "      <td>-0.908451</td>\n",
       "      <td>-0.937500</td>\n",
       "    </tr>\n",
       "    <tr>\n",
       "      <th>1987-05-31</th>\n",
       "      <td>-0.066667</td>\n",
       "      <td>851.593750</td>\n",
       "      <td>912.421875</td>\n",
       "      <td>0.050000</td>\n",
       "      <td>-0.937500</td>\n",
       "      <td>-0.924623</td>\n",
       "    </tr>\n",
       "    <tr>\n",
       "      <th>1987-06-30</th>\n",
       "      <td>NaN</td>\n",
       "      <td>NaN</td>\n",
       "      <td>851.593750</td>\n",
       "      <td>NaN</td>\n",
       "      <td>-0.924623</td>\n",
       "      <td>-0.929293</td>\n",
       "    </tr>\n",
       "    <tr>\n",
       "      <th rowspan=\"2\" valign=\"top\">10001.0</th>\n",
       "      <th>1986-01-31</th>\n",
       "      <td>NaN</td>\n",
       "      <td>6033.125000</td>\n",
       "      <td>NaN</td>\n",
       "      <td>NaN</td>\n",
       "      <td>NaN</td>\n",
       "      <td>NaN</td>\n",
       "    </tr>\n",
       "    <tr>\n",
       "      <th>1986-02-28</th>\n",
       "      <td>0.020408</td>\n",
       "      <td>6156.250000</td>\n",
       "      <td>6033.125000</td>\n",
       "      <td>1.020408</td>\n",
       "      <td>NaN</td>\n",
       "      <td>NaN</td>\n",
       "    </tr>\n",
       "  </tbody>\n",
       "</table>\n",
       "</div>"
      ],
      "text/plain": [
       "                         RET            MV         lagMV  CUMGROSSRET  \\\n",
       "PERMNO  DATE                                                            \n",
       "10000.0 1986-01-31       NaN  16100.000000           NaN          NaN   \n",
       "        1986-02-28 -0.257143  11960.000000  16100.000000     0.742857   \n",
       "        1986-03-31  0.365385  16330.000000  11960.000000     1.014286   \n",
       "        1986-04-30 -0.098592  15172.000000  16330.000000     0.914286   \n",
       "        1986-05-31 -0.222656  11793.859375  15172.000000     0.710714   \n",
       "        1986-06-30 -0.005025  11734.593750  11793.859375     0.707143   \n",
       "        1986-07-31 -0.080808  10786.343750  11734.593750     0.650000   \n",
       "        1986-08-31 -0.615385   4148.593750  10786.343750     0.250000   \n",
       "        1986-09-30 -0.057143   3911.531250   4148.593750     0.235714   \n",
       "        1986-10-31 -0.242424   3002.343750   3911.531250     0.178571   \n",
       "        1986-11-30  0.060000   3182.484375   3002.343750     0.189286   \n",
       "        1986-12-31 -0.377358   1981.546875   3182.484375     0.117857   \n",
       "        1987-01-31 -0.212121   1581.531250   1981.546875     0.092857   \n",
       "        1987-02-28  0.000000   1581.531250   1581.531250     0.092857   \n",
       "        1987-03-31 -0.384615    973.250000   1581.531250     0.057143   \n",
       "        1987-04-30 -0.062500    912.421875    973.250000     0.053571   \n",
       "        1987-05-31 -0.066667    851.593750    912.421875     0.050000   \n",
       "        1987-06-30       NaN           NaN    851.593750          NaN   \n",
       "10001.0 1986-01-31       NaN   6033.125000           NaN          NaN   \n",
       "        1986-02-28  0.020408   6156.250000   6033.125000     1.020408   \n",
       "\n",
       "                        MOM1      MOM2  \n",
       "PERMNO  DATE                            \n",
       "10000.0 1986-01-31       NaN       NaN  \n",
       "        1986-02-28       NaN       NaN  \n",
       "        1986-03-31       NaN       NaN  \n",
       "        1986-04-30       NaN       NaN  \n",
       "        1986-05-31       NaN       NaN  \n",
       "        1986-06-30       NaN       NaN  \n",
       "        1986-07-31       NaN       NaN  \n",
       "        1986-08-31       NaN       NaN  \n",
       "        1986-09-30       NaN       NaN  \n",
       "        1986-10-31       NaN       NaN  \n",
       "        1986-11-30       NaN       NaN  \n",
       "        1986-12-31       NaN       NaN  \n",
       "        1987-01-31       NaN       NaN  \n",
       "        1987-02-28       NaN -0.875000  \n",
       "        1987-03-31 -0.875000 -0.908451  \n",
       "        1987-04-30 -0.908451 -0.937500  \n",
       "        1987-05-31 -0.937500 -0.924623  \n",
       "        1987-06-30 -0.924623 -0.929293  \n",
       "10001.0 1986-01-31       NaN       NaN  \n",
       "        1986-02-28       NaN       NaN  "
      ]
     },
     "execution_count": 8,
     "metadata": {},
     "output_type": "execute_result"
    }
   ],
   "source": [
    "stocks['MOM1'] = stocks['CUMGROSSRET'].groupby('PERMNO').shift(2) / stocks['CUMGROSSRET'].groupby('PERMNO').shift(13) - 1\n",
    "stocks['MOM2'] = stocks['CUMGROSSRET'].groupby('PERMNO').shift(1) / stocks['CUMGROSSRET'].groupby('PERMNO').shift(12) - 1\n",
    "stocks.head(20)"
   ]
  },
  {
   "cell_type": "markdown",
   "metadata": {},
   "source": [
    "Dropping NaNs"
   ]
  },
  {
   "cell_type": "code",
   "execution_count": 9,
   "metadata": {
    "collapsed": true
   },
   "outputs": [],
   "source": [
    "stocks.dropna(inplace=True)"
   ]
  },
  {
   "cell_type": "markdown",
   "metadata": {},
   "source": [
    "Computing excess returns:"
   ]
  },
  {
   "cell_type": "code",
   "execution_count": 10,
   "metadata": {
    "collapsed": true
   },
   "outputs": [],
   "source": [
    "stocks['XRET'] = stocks['RET'] - rf['RF']"
   ]
  },
  {
   "cell_type": "markdown",
   "metadata": {},
   "source": [
    "Since we are going to combine different firms, on the same date, into portfolios, the next step is to sort by DATE first and then by PERMNO."
   ]
  },
  {
   "cell_type": "code",
   "execution_count": 11,
   "metadata": {
    "collapsed": true
   },
   "outputs": [],
   "source": [
    "stocks = stocks.reorder_levels(['DATE','PERMNO'])\n",
    "stocks.sort_index(inplace=True)"
   ]
  },
  {
   "cell_type": "markdown",
   "metadata": {},
   "source": [
    "Finally, time to compute portfolios.  I will compute quintile portfolios similarly to how we did it in the reversal and value strategies.  Everything from here to the end follows almost exactly from prior notebooks.  I have two portfolios, one for MOM1 and one for MOM2."
   ]
  },
  {
   "cell_type": "code",
   "execution_count": 12,
   "metadata": {
    "collapsed": true
   },
   "outputs": [],
   "source": [
    "def quintiles(inser):\n",
    "    outser = pd.qcut(inser, q=5, labels=range(1,6))\n",
    "    return outser"
   ]
  },
  {
   "cell_type": "code",
   "execution_count": 13,
   "metadata": {
    "collapsed": true
   },
   "outputs": [],
   "source": [
    "stocks['QUINTILE1'] = stocks['MOM1'].groupby('DATE').apply(quintiles)\n",
    "stocks['QUINTILE2'] = stocks['MOM2'].groupby('DATE').apply(quintiles)"
   ]
  },
  {
   "cell_type": "markdown",
   "metadata": {},
   "source": [
    "I'll compute equally weighted portfolio returns the same as we have seen many times.\n",
    "\n",
    "The last set of portfolios will be weighted by lagged market capitalization.  I will only compute these returns for the main momentum measure, as we will see that the second momentum measure is not that exciting."
   ]
  },
  {
   "cell_type": "code",
   "execution_count": 14,
   "metadata": {},
   "outputs": [],
   "source": [
    "ports1 = stocks.groupby(['QUINTILE1','DATE'])['XRET'].mean()\n",
    "ports2 = stocks.groupby(['QUINTILE2','DATE'])['XRET'].mean()\n",
    "ports3 = weighted_average(stocks, 'XRET', 'lagMV', ['QUINTILE1','DATE'])"
   ]
  },
  {
   "cell_type": "markdown",
   "metadata": {},
   "source": [
    "Before looking at returns, let see what past returns look like:"
   ]
  },
  {
   "cell_type": "code",
   "execution_count": 15,
   "metadata": {},
   "outputs": [
    {
     "data": {
      "text/html": [
       "<div>\n",
       "<style scoped>\n",
       "    .dataframe tbody tr th:only-of-type {\n",
       "        vertical-align: middle;\n",
       "    }\n",
       "\n",
       "    .dataframe tbody tr th {\n",
       "        vertical-align: top;\n",
       "    }\n",
       "\n",
       "    .dataframe thead th {\n",
       "        text-align: right;\n",
       "    }\n",
       "</style>\n",
       "<table border=\"1\" class=\"dataframe\">\n",
       "  <thead>\n",
       "    <tr style=\"text-align: right;\">\n",
       "      <th></th>\n",
       "      <th>count</th>\n",
       "      <th>mean</th>\n",
       "      <th>std</th>\n",
       "      <th>min</th>\n",
       "      <th>25%</th>\n",
       "      <th>50%</th>\n",
       "      <th>75%</th>\n",
       "      <th>max</th>\n",
       "    </tr>\n",
       "    <tr>\n",
       "      <th>QUINTILE1</th>\n",
       "      <th></th>\n",
       "      <th></th>\n",
       "      <th></th>\n",
       "      <th></th>\n",
       "      <th></th>\n",
       "      <th></th>\n",
       "      <th></th>\n",
       "      <th></th>\n",
       "    </tr>\n",
       "  </thead>\n",
       "  <tbody>\n",
       "    <tr>\n",
       "      <th>1</th>\n",
       "      <td>516986.0</td>\n",
       "      <td>-0.438434</td>\n",
       "      <td>0.225832</td>\n",
       "      <td>-0.999698</td>\n",
       "      <td>-0.600000</td>\n",
       "      <td>-0.435484</td>\n",
       "      <td>-0.273827</td>\n",
       "      <td>0.328571</td>\n",
       "    </tr>\n",
       "    <tr>\n",
       "      <th>2</th>\n",
       "      <td>516631.0</td>\n",
       "      <td>-0.128645</td>\n",
       "      <td>0.184449</td>\n",
       "      <td>-0.749545</td>\n",
       "      <td>-0.250000</td>\n",
       "      <td>-0.113228</td>\n",
       "      <td>-0.006433</td>\n",
       "      <td>0.645701</td>\n",
       "    </tr>\n",
       "    <tr>\n",
       "      <th>3</th>\n",
       "      <td>516616.0</td>\n",
       "      <td>0.058856</td>\n",
       "      <td>0.187074</td>\n",
       "      <td>-0.584091</td>\n",
       "      <td>-0.054148</td>\n",
       "      <td>0.066667</td>\n",
       "      <td>0.167701</td>\n",
       "      <td>0.996649</td>\n",
       "    </tr>\n",
       "    <tr>\n",
       "      <th>4</th>\n",
       "      <td>516631.0</td>\n",
       "      <td>0.263419</td>\n",
       "      <td>0.229365</td>\n",
       "      <td>-0.426824</td>\n",
       "      <td>0.124324</td>\n",
       "      <td>0.254533</td>\n",
       "      <td>0.386681</td>\n",
       "      <td>1.619624</td>\n",
       "    </tr>\n",
       "    <tr>\n",
       "      <th>5</th>\n",
       "      <td>516862.0</td>\n",
       "      <td>0.947678</td>\n",
       "      <td>1.139429</td>\n",
       "      <td>-0.231362</td>\n",
       "      <td>0.435897</td>\n",
       "      <td>0.681337</td>\n",
       "      <td>1.093750</td>\n",
       "      <td>98.571433</td>\n",
       "    </tr>\n",
       "  </tbody>\n",
       "</table>\n",
       "</div>"
      ],
      "text/plain": [
       "              count      mean       std       min       25%       50%  \\\n",
       "QUINTILE1                                                               \n",
       "1          516986.0 -0.438434  0.225832 -0.999698 -0.600000 -0.435484   \n",
       "2          516631.0 -0.128645  0.184449 -0.749545 -0.250000 -0.113228   \n",
       "3          516616.0  0.058856  0.187074 -0.584091 -0.054148  0.066667   \n",
       "4          516631.0  0.263419  0.229365 -0.426824  0.124324  0.254533   \n",
       "5          516862.0  0.947678  1.139429 -0.231362  0.435897  0.681337   \n",
       "\n",
       "                75%        max  \n",
       "QUINTILE1                       \n",
       "1         -0.273827   0.328571  \n",
       "2         -0.006433   0.645701  \n",
       "3          0.167701   0.996649  \n",
       "4          0.386681   1.619624  \n",
       "5          1.093750  98.571433  "
      ]
     },
     "execution_count": 15,
     "metadata": {},
     "output_type": "execute_result"
    }
   ],
   "source": [
    "stocks.groupby('QUINTILE1')['MOM1'].describe()"
   ]
  },
  {
   "cell_type": "markdown",
   "metadata": {},
   "source": [
    "We see that \"loser\" stocks on average have lost close to half their value in the 11-month formation period.  \"Winner\" stocks have on average almost doubled their value.\n",
    "\n",
    "Here are the first set of results, which use the standard momentum measure:"
   ]
  },
  {
   "cell_type": "code",
   "execution_count": 16,
   "metadata": {},
   "outputs": [
    {
     "data": {
      "text/html": [
       "<div>\n",
       "<style scoped>\n",
       "    .dataframe tbody tr th:only-of-type {\n",
       "        vertical-align: middle;\n",
       "    }\n",
       "\n",
       "    .dataframe tbody tr th {\n",
       "        vertical-align: top;\n",
       "    }\n",
       "\n",
       "    .dataframe thead th {\n",
       "        text-align: right;\n",
       "    }\n",
       "</style>\n",
       "<table border=\"1\" class=\"dataframe\">\n",
       "  <thead>\n",
       "    <tr style=\"text-align: right;\">\n",
       "      <th></th>\n",
       "      <th>count</th>\n",
       "      <th>mean</th>\n",
       "      <th>std</th>\n",
       "      <th>min</th>\n",
       "      <th>25%</th>\n",
       "      <th>50%</th>\n",
       "      <th>75%</th>\n",
       "      <th>max</th>\n",
       "      <th>sharpe</th>\n",
       "    </tr>\n",
       "    <tr>\n",
       "      <th>QUINTILE1</th>\n",
       "      <th></th>\n",
       "      <th></th>\n",
       "      <th></th>\n",
       "      <th></th>\n",
       "      <th></th>\n",
       "      <th></th>\n",
       "      <th></th>\n",
       "      <th></th>\n",
       "      <th></th>\n",
       "    </tr>\n",
       "  </thead>\n",
       "  <tbody>\n",
       "    <tr>\n",
       "      <th>1</th>\n",
       "      <td>569.0</td>\n",
       "      <td>0.005866</td>\n",
       "      <td>0.087606</td>\n",
       "      <td>-0.294311</td>\n",
       "      <td>-0.042663</td>\n",
       "      <td>0.001721</td>\n",
       "      <td>0.045603</td>\n",
       "      <td>0.684135</td>\n",
       "      <td>0.231937</td>\n",
       "    </tr>\n",
       "    <tr>\n",
       "      <th>2</th>\n",
       "      <td>569.0</td>\n",
       "      <td>0.006422</td>\n",
       "      <td>0.058188</td>\n",
       "      <td>-0.260078</td>\n",
       "      <td>-0.025319</td>\n",
       "      <td>0.008030</td>\n",
       "      <td>0.034080</td>\n",
       "      <td>0.336823</td>\n",
       "      <td>0.382316</td>\n",
       "    </tr>\n",
       "    <tr>\n",
       "      <th>3</th>\n",
       "      <td>569.0</td>\n",
       "      <td>0.007983</td>\n",
       "      <td>0.048984</td>\n",
       "      <td>-0.263650</td>\n",
       "      <td>-0.018989</td>\n",
       "      <td>0.011861</td>\n",
       "      <td>0.033731</td>\n",
       "      <td>0.269561</td>\n",
       "      <td>0.564575</td>\n",
       "    </tr>\n",
       "    <tr>\n",
       "      <th>4</th>\n",
       "      <td>569.0</td>\n",
       "      <td>0.010202</td>\n",
       "      <td>0.048768</td>\n",
       "      <td>-0.282402</td>\n",
       "      <td>-0.016394</td>\n",
       "      <td>0.014984</td>\n",
       "      <td>0.038175</td>\n",
       "      <td>0.234316</td>\n",
       "      <td>0.724681</td>\n",
       "    </tr>\n",
       "    <tr>\n",
       "      <th>5</th>\n",
       "      <td>569.0</td>\n",
       "      <td>0.012529</td>\n",
       "      <td>0.061718</td>\n",
       "      <td>-0.317043</td>\n",
       "      <td>-0.019869</td>\n",
       "      <td>0.016103</td>\n",
       "      <td>0.049616</td>\n",
       "      <td>0.303137</td>\n",
       "      <td>0.703201</td>\n",
       "    </tr>\n",
       "  </tbody>\n",
       "</table>\n",
       "</div>"
      ],
      "text/plain": [
       "           count      mean       std       min       25%       50%       75%  \\\n",
       "QUINTILE1                                                                      \n",
       "1          569.0  0.005866  0.087606 -0.294311 -0.042663  0.001721  0.045603   \n",
       "2          569.0  0.006422  0.058188 -0.260078 -0.025319  0.008030  0.034080   \n",
       "3          569.0  0.007983  0.048984 -0.263650 -0.018989  0.011861  0.033731   \n",
       "4          569.0  0.010202  0.048768 -0.282402 -0.016394  0.014984  0.038175   \n",
       "5          569.0  0.012529  0.061718 -0.317043 -0.019869  0.016103  0.049616   \n",
       "\n",
       "                max    sharpe  \n",
       "QUINTILE1                      \n",
       "1          0.684135  0.231937  \n",
       "2          0.336823  0.382316  \n",
       "3          0.269561  0.564575  \n",
       "4          0.234316  0.724681  \n",
       "5          0.303137  0.703201  "
      ]
     },
     "execution_count": 16,
     "metadata": {},
     "output_type": "execute_result"
    }
   ],
   "source": [
    "stats1 = ports1.groupby(['QUINTILE1']).describe()\n",
    "stats1['sharpe'] = stats1['mean'] / stats1['std'] * np.sqrt(12)\n",
    "stats1"
   ]
  },
  {
   "cell_type": "markdown",
   "metadata": {},
   "source": [
    "The effects are huge!  Winner stocks have average excess returns that are more than double loser stocks.  The winner Sharpe ratio is three times as high as the loser Sharpe ratio.\n",
    "\n",
    "For comparison, here are the results using the momentum measure that does not impose the extra month lag:"
   ]
  },
  {
   "cell_type": "code",
   "execution_count": 17,
   "metadata": {},
   "outputs": [
    {
     "data": {
      "text/html": [
       "<div>\n",
       "<style scoped>\n",
       "    .dataframe tbody tr th:only-of-type {\n",
       "        vertical-align: middle;\n",
       "    }\n",
       "\n",
       "    .dataframe tbody tr th {\n",
       "        vertical-align: top;\n",
       "    }\n",
       "\n",
       "    .dataframe thead th {\n",
       "        text-align: right;\n",
       "    }\n",
       "</style>\n",
       "<table border=\"1\" class=\"dataframe\">\n",
       "  <thead>\n",
       "    <tr style=\"text-align: right;\">\n",
       "      <th></th>\n",
       "      <th>count</th>\n",
       "      <th>mean</th>\n",
       "      <th>std</th>\n",
       "      <th>min</th>\n",
       "      <th>25%</th>\n",
       "      <th>50%</th>\n",
       "      <th>75%</th>\n",
       "      <th>max</th>\n",
       "      <th>sharpe</th>\n",
       "    </tr>\n",
       "    <tr>\n",
       "      <th>QUINTILE2</th>\n",
       "      <th></th>\n",
       "      <th></th>\n",
       "      <th></th>\n",
       "      <th></th>\n",
       "      <th></th>\n",
       "      <th></th>\n",
       "      <th></th>\n",
       "      <th></th>\n",
       "      <th></th>\n",
       "    </tr>\n",
       "  </thead>\n",
       "  <tbody>\n",
       "    <tr>\n",
       "      <th>1</th>\n",
       "      <td>569.0</td>\n",
       "      <td>0.010682</td>\n",
       "      <td>0.091937</td>\n",
       "      <td>-0.297363</td>\n",
       "      <td>-0.037606</td>\n",
       "      <td>0.008060</td>\n",
       "      <td>0.048841</td>\n",
       "      <td>0.741515</td>\n",
       "      <td>0.402493</td>\n",
       "    </tr>\n",
       "    <tr>\n",
       "      <th>2</th>\n",
       "      <td>569.0</td>\n",
       "      <td>0.005686</td>\n",
       "      <td>0.058745</td>\n",
       "      <td>-0.259791</td>\n",
       "      <td>-0.024497</td>\n",
       "      <td>0.006338</td>\n",
       "      <td>0.034718</td>\n",
       "      <td>0.351953</td>\n",
       "      <td>0.335305</td>\n",
       "    </tr>\n",
       "    <tr>\n",
       "      <th>3</th>\n",
       "      <td>569.0</td>\n",
       "      <td>0.007233</td>\n",
       "      <td>0.049176</td>\n",
       "      <td>-0.261678</td>\n",
       "      <td>-0.019444</td>\n",
       "      <td>0.011062</td>\n",
       "      <td>0.033064</td>\n",
       "      <td>0.279568</td>\n",
       "      <td>0.509528</td>\n",
       "    </tr>\n",
       "    <tr>\n",
       "      <th>4</th>\n",
       "      <td>569.0</td>\n",
       "      <td>0.008709</td>\n",
       "      <td>0.047634</td>\n",
       "      <td>-0.282586</td>\n",
       "      <td>-0.016985</td>\n",
       "      <td>0.012619</td>\n",
       "      <td>0.037583</td>\n",
       "      <td>0.198487</td>\n",
       "      <td>0.633379</td>\n",
       "    </tr>\n",
       "    <tr>\n",
       "      <th>5</th>\n",
       "      <td>569.0</td>\n",
       "      <td>0.010688</td>\n",
       "      <td>0.060075</td>\n",
       "      <td>-0.316064</td>\n",
       "      <td>-0.021968</td>\n",
       "      <td>0.015095</td>\n",
       "      <td>0.047075</td>\n",
       "      <td>0.381568</td>\n",
       "      <td>0.616301</td>\n",
       "    </tr>\n",
       "  </tbody>\n",
       "</table>\n",
       "</div>"
      ],
      "text/plain": [
       "           count      mean       std       min       25%       50%       75%  \\\n",
       "QUINTILE2                                                                      \n",
       "1          569.0  0.010682  0.091937 -0.297363 -0.037606  0.008060  0.048841   \n",
       "2          569.0  0.005686  0.058745 -0.259791 -0.024497  0.006338  0.034718   \n",
       "3          569.0  0.007233  0.049176 -0.261678 -0.019444  0.011062  0.033064   \n",
       "4          569.0  0.008709  0.047634 -0.282586 -0.016985  0.012619  0.037583   \n",
       "5          569.0  0.010688  0.060075 -0.316064 -0.021968  0.015095  0.047075   \n",
       "\n",
       "                max    sharpe  \n",
       "QUINTILE2                      \n",
       "1          0.741515  0.402493  \n",
       "2          0.351953  0.335305  \n",
       "3          0.279568  0.509528  \n",
       "4          0.198487  0.633379  \n",
       "5          0.381568  0.616301  "
      ]
     },
     "execution_count": 17,
     "metadata": {},
     "output_type": "execute_result"
    }
   ],
   "source": [
    "stats2 = ports2.groupby(['QUINTILE2']).describe()\n",
    "stats2['sharpe'] = stats2['mean'] / stats2['std'] * np.sqrt(12)\n",
    "stats2"
   ]
  },
  {
   "cell_type": "markdown",
   "metadata": {},
   "source": [
    "This is terrible.  Without the extra lag, momentum simply does not work.  This is probably because short-run reversal and momentum are both captured by the second momentum measure.  Since the two signals have opposite effects, the two strategies cancel out.  Because there's nothing here, we'll drop these portfolios for the rest of the analysis.\n",
    "\n",
    "The last portfolios are cap-weighted portfolios based on the usual momentum measure:"
   ]
  },
  {
   "cell_type": "code",
   "execution_count": 18,
   "metadata": {},
   "outputs": [
    {
     "data": {
      "text/html": [
       "<div>\n",
       "<style scoped>\n",
       "    .dataframe tbody tr th:only-of-type {\n",
       "        vertical-align: middle;\n",
       "    }\n",
       "\n",
       "    .dataframe tbody tr th {\n",
       "        vertical-align: top;\n",
       "    }\n",
       "\n",
       "    .dataframe thead th {\n",
       "        text-align: right;\n",
       "    }\n",
       "</style>\n",
       "<table border=\"1\" class=\"dataframe\">\n",
       "  <thead>\n",
       "    <tr style=\"text-align: right;\">\n",
       "      <th></th>\n",
       "      <th>count</th>\n",
       "      <th>mean</th>\n",
       "      <th>std</th>\n",
       "      <th>min</th>\n",
       "      <th>25%</th>\n",
       "      <th>50%</th>\n",
       "      <th>75%</th>\n",
       "      <th>max</th>\n",
       "      <th>sharpe</th>\n",
       "    </tr>\n",
       "    <tr>\n",
       "      <th>QUINTILE1</th>\n",
       "      <th></th>\n",
       "      <th></th>\n",
       "      <th></th>\n",
       "      <th></th>\n",
       "      <th></th>\n",
       "      <th></th>\n",
       "      <th></th>\n",
       "      <th></th>\n",
       "      <th></th>\n",
       "    </tr>\n",
       "  </thead>\n",
       "  <tbody>\n",
       "    <tr>\n",
       "      <th>1</th>\n",
       "      <td>569.0</td>\n",
       "      <td>-0.001489</td>\n",
       "      <td>0.078613</td>\n",
       "      <td>-0.277840</td>\n",
       "      <td>-0.042396</td>\n",
       "      <td>-0.001112</td>\n",
       "      <td>0.038098</td>\n",
       "      <td>0.383395</td>\n",
       "      <td>-0.065625</td>\n",
       "    </tr>\n",
       "    <tr>\n",
       "      <th>2</th>\n",
       "      <td>569.0</td>\n",
       "      <td>0.003731</td>\n",
       "      <td>0.055775</td>\n",
       "      <td>-0.239033</td>\n",
       "      <td>-0.024446</td>\n",
       "      <td>0.003329</td>\n",
       "      <td>0.032429</td>\n",
       "      <td>0.298121</td>\n",
       "      <td>0.231735</td>\n",
       "    </tr>\n",
       "    <tr>\n",
       "      <th>3</th>\n",
       "      <td>569.0</td>\n",
       "      <td>0.004910</td>\n",
       "      <td>0.045268</td>\n",
       "      <td>-0.194635</td>\n",
       "      <td>-0.022226</td>\n",
       "      <td>0.007528</td>\n",
       "      <td>0.031696</td>\n",
       "      <td>0.181000</td>\n",
       "      <td>0.375717</td>\n",
       "    </tr>\n",
       "    <tr>\n",
       "      <th>4</th>\n",
       "      <td>569.0</td>\n",
       "      <td>0.006764</td>\n",
       "      <td>0.044337</td>\n",
       "      <td>-0.226093</td>\n",
       "      <td>-0.019447</td>\n",
       "      <td>0.009203</td>\n",
       "      <td>0.032684</td>\n",
       "      <td>0.181116</td>\n",
       "      <td>0.528466</td>\n",
       "    </tr>\n",
       "    <tr>\n",
       "      <th>5</th>\n",
       "      <td>569.0</td>\n",
       "      <td>0.008990</td>\n",
       "      <td>0.055123</td>\n",
       "      <td>-0.269219</td>\n",
       "      <td>-0.020245</td>\n",
       "      <td>0.012945</td>\n",
       "      <td>0.040552</td>\n",
       "      <td>0.190209</td>\n",
       "      <td>0.564932</td>\n",
       "    </tr>\n",
       "  </tbody>\n",
       "</table>\n",
       "</div>"
      ],
      "text/plain": [
       "           count      mean       std       min       25%       50%       75%  \\\n",
       "QUINTILE1                                                                      \n",
       "1          569.0 -0.001489  0.078613 -0.277840 -0.042396 -0.001112  0.038098   \n",
       "2          569.0  0.003731  0.055775 -0.239033 -0.024446  0.003329  0.032429   \n",
       "3          569.0  0.004910  0.045268 -0.194635 -0.022226  0.007528  0.031696   \n",
       "4          569.0  0.006764  0.044337 -0.226093 -0.019447  0.009203  0.032684   \n",
       "5          569.0  0.008990  0.055123 -0.269219 -0.020245  0.012945  0.040552   \n",
       "\n",
       "                max    sharpe  \n",
       "QUINTILE1                      \n",
       "1          0.383395 -0.065625  \n",
       "2          0.298121  0.231735  \n",
       "3          0.181000  0.375717  \n",
       "4          0.181116  0.528466  \n",
       "5          0.190209  0.564932  "
      ]
     },
     "execution_count": 18,
     "metadata": {},
     "output_type": "execute_result"
    }
   ],
   "source": [
    "stats3 = ports3.groupby(['QUINTILE1']).describe()\n",
    "stats3['sharpe'] = stats3['mean'] / stats3['std'] * np.sqrt(12)\n",
    "stats3"
   ]
  },
  {
   "cell_type": "markdown",
   "metadata": {},
   "source": [
    "This also looks good, but it is mostly because the loser portfolio is downright awful.\n",
    "\n",
    "We can also look at a long/short strategy where we long the winners and short the lowers:"
   ]
  },
  {
   "cell_type": "code",
   "execution_count": 19,
   "metadata": {},
   "outputs": [
    {
     "data": {
      "text/plain": [
       "count    569.000000\n",
       "mean       0.006663\n",
       "std        0.061990\n",
       "min       -0.637807\n",
       "25%       -0.012453\n",
       "50%        0.011966\n",
       "75%        0.034756\n",
       "max        0.196118\n",
       "Name: XRET, dtype: float64"
      ]
     },
     "execution_count": 19,
     "metadata": {},
     "output_type": "execute_result"
    }
   ],
   "source": [
    "highminuslow1 = ports1.loc[5] - ports1.loc[1]\n",
    "highminuslow1.describe()"
   ]
  },
  {
   "cell_type": "code",
   "execution_count": 20,
   "metadata": {},
   "outputs": [
    {
     "data": {
      "text/plain": [
       "count    569.000000\n",
       "mean       0.010479\n",
       "std        0.067197\n",
       "min       -0.428491\n",
       "25%       -0.016126\n",
       "50%        0.015299\n",
       "75%        0.046478\n",
       "max        0.238606\n",
       "dtype: float64"
      ]
     },
     "execution_count": 20,
     "metadata": {},
     "output_type": "execute_result"
    }
   ],
   "source": [
    "highminuslow3 = ports3.loc[5] - ports3.loc[1]\n",
    "highminuslow3.describe()"
   ]
  },
  {
   "cell_type": "code",
   "execution_count": 21,
   "metadata": {},
   "outputs": [
    {
     "name": "stdout",
     "output_type": "stream",
     "text": [
      "2.56391012056 3.71981535282\n"
     ]
    }
   ],
   "source": [
    "tstat1 = highminuslow1.describe()['mean']/(highminuslow1.describe()['std'] / np.sqrt(highminuslow1.describe()['count']))\n",
    "tstat3 = highminuslow3.describe()['mean']/(highminuslow3.describe()['std'] / np.sqrt(highminuslow3.describe()['count']))\n",
    "print(tstat1, tstat3)"
   ]
  },
  {
   "cell_type": "code",
   "execution_count": 22,
   "metadata": {},
   "outputs": [
    {
     "name": "stdout",
     "output_type": "stream",
     "text": [
      "0.372337935578 0.540201607729\n"
     ]
    }
   ],
   "source": [
    "sharpe1 = highminuslow1.describe()['mean']/highminuslow1.describe()['std'] * np.sqrt(12)\n",
    "sharpe3 = highminuslow3.describe()['mean']/highminuslow3.describe()['std'] * np.sqrt(12)\n",
    "print(sharpe1, sharpe3)"
   ]
  },
  {
   "cell_type": "markdown",
   "metadata": {
    "collapsed": true
   },
   "source": [
    "These results are surprising.  Value weighting looks quite a bit better.  The average return spread is much more significant, and the long/short portfolio based on value weighting has a much higher Sharpe ratio.  Typically, we find that there are greater inefficiencies in smaller firms, which are weighted much more heavily in equally weighted portfolios.\n",
    "\n",
    "Finally, here's a time series plot showing a 5-year moving average of the high minus low portfolio's returns:"
   ]
  },
  {
   "cell_type": "code",
   "execution_count": 23,
   "metadata": {},
   "outputs": [
    {
     "data": {
      "image/png": "[encoded data removed]",
      "text/plain": [
       "<matplotlib.figure.Figure at 0x15039cd3eb8>"
      ]
     },
     "metadata": {},
     "output_type": "display_data"
    }
   ],
   "source": [
    "highminuslow1.rolling(60).mean().plot(color='r')\n",
    "highminuslow3.rolling(60).mean().plot(color='b')\n",
    "plt.show()"
   ]
  },
  {
   "cell_type": "markdown",
   "metadata": {
    "collapsed": true
   },
   "source": [
    "You can see that the last 20 years have been much worse for momentum than the 20 years before."
   ]
  }
 ],
 "metadata": {
  "kernelspec": {
   "display_name": "Python 3",
   "language": "python",
   "name": "python3"
  },
  "language_info": {
   "codemirror_mode": {
    "name": "ipython",
    "version": 3
   },
   "file_extension": ".py",
   "mimetype": "text/x-python",
   "name": "python",
   "nbconvert_exporter": "python",
   "pygments_lexer": "ipython3",
   "version": "3.6.3"
  }
 },
 "nbformat": 4,
 "nbformat_minor": 2
}
